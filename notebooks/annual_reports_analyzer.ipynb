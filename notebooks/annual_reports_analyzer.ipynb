{
 "cells": [
  {
   "cell_type": "code",
   "execution_count": null,
   "metadata": {},
   "outputs": [],
   "source": [
    "!pip install OpenDartReader html-to-markdown"
   ]
  },
  {
   "cell_type": "code",
   "execution_count": 13,
   "metadata": {},
   "outputs": [
    {
     "data": {
      "text/plain": [
       "'00613318'"
      ]
     },
     "execution_count": 13,
     "metadata": {},
     "output_type": "execute_result"
    }
   ],
   "source": [
    "dart.find_corp_code(\"와이지엔터테인먼트\")"
   ]
  },
  {
   "cell_type": "code",
   "execution_count": 18,
   "metadata": {},
   "outputs": [
    {
     "data": {
      "text/html": [
       "<div>\n",
       "<style scoped>\n",
       "    .dataframe tbody tr th:only-of-type {\n",
       "        vertical-align: middle;\n",
       "    }\n",
       "\n",
       "    .dataframe tbody tr th {\n",
       "        vertical-align: top;\n",
       "    }\n",
       "\n",
       "    .dataframe thead th {\n",
       "        text-align: right;\n",
       "    }\n",
       "</style>\n",
       "<table border=\"1\" class=\"dataframe\">\n",
       "  <thead>\n",
       "    <tr style=\"text-align: right;\">\n",
       "      <th></th>\n",
       "      <th>corp_code</th>\n",
       "      <th>corp_name</th>\n",
       "      <th>stock_code</th>\n",
       "      <th>corp_cls</th>\n",
       "      <th>report_nm</th>\n",
       "      <th>rcept_no</th>\n",
       "      <th>flr_nm</th>\n",
       "      <th>rcept_dt</th>\n",
       "      <th>rm</th>\n",
       "    </tr>\n",
       "  </thead>\n",
       "  <tbody>\n",
       "    <tr>\n",
       "      <th>0</th>\n",
       "      <td>00613318</td>\n",
       "      <td>와이지엔터테인먼트</td>\n",
       "      <td>122870</td>\n",
       "      <td>K</td>\n",
       "      <td>사업보고서 (2024.12)</td>\n",
       "      <td>20250320001675</td>\n",
       "      <td>와이지엔터테인먼트</td>\n",
       "      <td>20250320</td>\n",
       "      <td>연</td>\n",
       "    </tr>\n",
       "  </tbody>\n",
       "</table>\n",
       "</div>"
      ],
      "text/plain": [
       "  corp_code  corp_name stock_code corp_cls        report_nm        rcept_no  \\\n",
       "0  00613318  와이지엔터테인먼트     122870        K  사업보고서 (2024.12)  20250320001675   \n",
       "\n",
       "      flr_nm  rcept_dt rm  \n",
       "0  와이지엔터테인먼트  20250320  연  "
      ]
     },
     "execution_count": 18,
     "metadata": {},
     "output_type": "execute_result"
    }
   ],
   "source": [
    "dart.list(\"00613318\" ,start='2025-01-01', kind='A')"
   ]
  },
  {
   "cell_type": "code",
   "execution_count": null,
   "metadata": {},
   "outputs": [],
   "source": [
    "import OpenDartReader\n",
    "import requests\n",
    "from html_to_markdown import convert_to_markdown\n",
    "import os\n",
    "\n",
    "API_KEY = \"b7a12cc2b94a91f4e62f4cedb2bf09e900d1cedd\"  # DART에서 발급받은 본인 API 인증키\n",
    "rcp_no = \"20250320001675\"\n",
    "corp_name = \"YG엔터테인먼트\"\n",
    "year = \"2024\"\n",
    "\n",
    "dart = OpenDartReader(API_KEY)\n",
    "\n",
    "for ix, row in dart.sub_docs(rcp_no).iterrows():\n",
    "    print(row['title'])\n",
    "    url = row['url']\n",
    "    res = requests.get(url)\n",
    "    html_content = res.text\n",
    "    markdown = convert_to_markdown(html_content)\n",
    "\n",
    "    #save markdown to file, \"../reports/2024/YG엔터테인먼트/ar/{title}.md\"\n",
    "    # 파일 경로 생성\n",
    "    file_path = f\"../data/reports/{year}/{corp_name}/ar/{row['title']}.md\"\n",
    "    \n",
    "    # 디렉토리가 없으면 생성\n",
    "    os.makedirs(os.path.dirname(file_path), exist_ok=True)\n",
    "    \n",
    "    # 파일 저장\n",
    "    with open(file_path, \"w\") as f:\n",
    "        f.write(markdown)"
   ]
  },
  {
   "cell_type": "code",
   "execution_count": null,
   "metadata": {},
   "outputs": [],
   "source": [
    "# TEST markdown convert\n",
    "\n",
    "from html_to_markdown import convert_to_markdown\n",
    "from IPython.display import display, Markdown\n",
    "\n",
    "url = dart.sub_docs(rcp_no).loc[2, 'url']\n",
    "print(url)\n",
    "res = requests.get(url)\n",
    "html_content = res.text\n",
    "\n",
    "markdown = convert_to_markdown(html_content)\n",
    "display(Markdown(markdown))\n"
   ]
  },
  {
   "cell_type": "code",
   "execution_count": null,
   "metadata": {},
   "outputs": [],
   "source": []
  },
  {
   "cell_type": "code",
   "execution_count": 2,
   "metadata": {},
   "outputs": [
    {
     "name": "stdout",
     "output_type": "stream",
     "text": [
      "file3. 자본금 변동사항.mdprocessed\n",
      "file7. 기타 참고사항.mdprocessed\n",
      "file4. 재무제표.mdprocessed\n",
      "file2. 감사제도에 관한 사항.mdprocessed\n",
      "file2. 임원의 보수 등.mdprocessed\n",
      "file3. 원재료 및 생산설비.mdprocessed\n",
      "fileII. 사업의 내용.mdprocessed\n",
      "fileXII. 상세표.mdprocessed\n",
      "file4. 작성기준일 이후 발생한 주요사항 등 기타사항.mdprocessed\n",
      "fileVIII. 임원 및 직원 등에 관한 사항.mdprocessed\n",
      "file2. 연결재무제표.mdprocessed\n",
      "file2. 주요 제품 및 서비스.mdprocessed\n",
      "fileVI. 이사회 등 회사의 기관에 관한 사항.mdprocessed\n",
      "fileXI. 그 밖에 투자자 보호를 위하여 필요한 사항.mdprocessed\n",
      "fileI. 회사의 개요.mdprocessed\n",
      "file6. 주요계약 및 연구개발활동.mdprocessed\n",
      "file1. 연결대상 종속회사 현황(상세).mdprocessed\n",
      "file2. 우발부채 등에 관한 사항.mdprocessed\n",
      "file3. 주주총회 등에 관한 사항.mdprocessed\n",
      "file6. 배당에 관한 사항.mdprocessed\n",
      "file3. 연결재무제표 주석.mdprocessed\n",
      "fileV. 회계감사인의 감사의견 등.mdprocessed\n",
      "file1. 임원 및 직원 등의 현황.mdprocessed\n",
      "file5. 위험관리 및 파생거래.mdprocessed\n",
      "file3. 타법인출자 현황(상세).mdprocessed\n",
      "file1. 공시내용 진행 및 변경사항.mdprocessed\n",
      "fileIX. 계열회사 등에 관한 사항.mdprocessed\n",
      "file【 대표이사 등의 확인 】.mdprocessed\n",
      "file2. 계열회사 현황(상세).mdprocessed\n",
      "Error processing file III. 재무에 관한 사항.md: Error code: 400 - {'error': {'message': \"This model's maximum context length is 128000 tokens. However, your messages resulted in 207851 tokens. Please reduce the length of the messages.\", 'type': 'invalid_request_error', 'param': 'messages', 'code': 'context_length_exceeded'}}\n",
      "file사 업 보 고 서.mdprocessed\n",
      "file8. 기타 재무에 관한 사항.mdprocessed\n",
      "fileX. 대주주 등과의 거래내용.mdprocessed\n",
      "file1. 외부감사에 관한 사항.mdprocessed\n",
      "file5. 재무제표 주석.mdprocessed\n",
      "file1. 요약재무정보.mdprocessed\n",
      "file2. 회사의 연혁.mdprocessed\n",
      "file2. 내부통제에 관한 사항.mdprocessed\n",
      "file1. 사업의 개요.mdprocessed\n",
      "fileIV. 이사의 경영진단 및 분석의견.mdprocessed\n",
      "fileVII. 주주에 관한 사항.mdprocessed\n",
      "file1. 이사회에 관한 사항.mdprocessed\n",
      "file1. 회사의 개요.mdprocessed\n",
      "file3. 제재 등과 관련된 사항.mdprocessed\n",
      "file4. 주식의 총수 등.mdprocessed\n",
      "file4. 매출 및 수주상황.mdprocessed\n",
      "file7. 증권의 발행을 통한 자금조달에 관한 사항.mdprocessed\n",
      "file5. 정관에 관한 사항.mdprocessed\n"
     ]
    }
   ],
   "source": [
    "import os\n",
    "import pandas as pd\n",
    "from esg_bot.utils import text_to_embeddings, text_summarize\n",
    "\n",
    "prompt = \"\"\n",
    "with open(\"../data/prompts/ar_section_to_summary.txt\", \"rb\") as prompt_file:\n",
    "    # read file to string\n",
    "    prompt = prompt_file.read().decode(\"utf-8\")\n",
    "\n",
    "\n",
    "AR_REPORT_SECTION_PATH = \"../data/reports/2024/YG엔터테인먼트/ar\"\n",
    "\n",
    "columns = [\"section_name\", \"text\", \"summary\", \"vector\"]\n",
    "\n",
    "# make df\n",
    "df = pd.DataFrame(columns=columns)\n",
    "\n",
    "# get file list in AR_REPORT_SECTION_PATH\n",
    "files = os.listdir(AR_REPORT_SECTION_PATH)\n",
    "for file in files:\n",
    "    try:\n",
    "        # get text from file\n",
    "        with open(AR_REPORT_SECTION_PATH + \"/\" + file, \"r\") as f:\n",
    "            text = f.read()\n",
    "\n",
    "        summary = text_summarize(text, prompt, model=\"gpt-4o\")\n",
    "        # get vector from text\n",
    "        vector = text_to_embeddings(summary)\n",
    "\n",
    "        #get file name without extension, remove .md\n",
    "        file_name = file.split(\".md\")[0]\n",
    "\n",
    "        # append to df\n",
    "        new_row = pd.DataFrame([[file_name, text, summary, vector]], columns=columns)\n",
    "        df = pd.concat([df, new_row], ignore_index=True)\n",
    "\n",
    "        print(\"file\" + file + \"processed\")\n",
    "\n",
    "    except Exception as e:\n",
    "        print(f\"Error processing file {file}: {e}\")\n",
    "\n",
    "\n",
    "# save df to csv\n",
    "os.makedirs(AR_REPORT_SECTION_PATH, exist_ok=True)\n",
    "df.to_csv(AR_REPORT_SECTION_PATH + \"corpus_vector.csv\", index=False)"
   ]
  },
  {
   "cell_type": "code",
   "execution_count": 1,
   "metadata": {},
   "outputs": [
    {
     "name": "stdout",
     "output_type": "stream",
     "text": [
      "---\n",
      "\n",
      "제목: 기타 참고사항 및 산업 개요\n",
      "키워드: 지적재산권, 음반 및 음원 사업, 공연 사업, 매니지먼트 사업, 광고 사업, K-POP, 시장 성장성\n",
      "주요 데이터:\n",
      "  - 지적재산권 보유 현황\n",
      "    - 상표권: 국내 121건 등록 461건, 해외 532건 등록 666건, 총합 653건 등록 1127건\n",
      "  - 음반 및 음원 산업 성장성\n",
      "    - 2023년 세계 음악 산업 매출: 286억 달러 (10.2% 성장)\n",
      "    - 한국 음악 산업 매출: 12조 6,842억 원 (15.2% 성장)\n",
      "  - 공연 산업 및 매니지먼트 사업 동향\n",
      "    - 공연 시장 티켓 판매액 사상 최대, 아티스트와 관객의 유대감 강화\n",
      "  - 광고 산업 성장성\n",
      "    - 2023년 총 광고비: 16.5조 원, 2024년 17조 원, 2025년 17.5조 원 예상\n",
      "상세 내용:\n",
      "  1. 지적재산권 보유 현황\n",
      "    - 당사는 상표권과 저작권을 포함한 다양한 지적재산권을 보유하고 있으며, 이를 통해 라이센싱, 굿즈 판매 및 디지털 콘텐츠 유통 등의 사업을 운영하고 있음.\n",
      "    - 지적재산권 사용을 위한 계약 체결 및 관리 업무를 통해 지속적인 보호 및 활용을 도모함.\n",
      "  2. 음반 및 음원 사업\n",
      "    - 음악 산업의 글로벌 성장 및 K-POP의 해외 진출로 인한 긍정적 영향.\n",
      "    - 스트리밍 시장의 비중 증가, 2023년 스트리밍 사용자 수 5억 명 돌파.\n",
      "  3. 공연 사업\n",
      "    - 아티스트와 팬 간의 강한 유대감 형성 및 공연 산업의 지속적인 성장 예측.\n",
      "    - 코로나19 이후 공연 시장 회복 및 관람 수요 증가.\n",
      "  4. 매니지먼트 사업\n",
      "    - 아티스트의 다양한 분야 활동을 지원하며, 성공적인 신인 발굴 및 트레이닝 시스템 강화.\n",
      "  5. 광고 사업\n",
      "    - 광고 산업의 지속적인 성장과 함께 당사의 아티스트 IP를 활용한 광고 캠페인 증가.\n",
      "\n",
      "---\n"
     ]
    }
   ],
   "source": [
    "from esg_bot.utils import text_summarize\n",
    "\n",
    "prompt = \"\"\n",
    "with open(\"../data/prompts/ar_section_to_summary.txt\", \"rb\") as prompt_file:\n",
    "    # read file to string\n",
    "    prompt = prompt_file.read().decode(\"utf-8\")\n",
    "\n",
    "#read markdown file\n",
    "with open(\"../data/reports/2024/YG엔터테인먼트/ar/7. 기타 참고사항.md\", \"r\") as f:\n",
    "    text = f.read()\n",
    "\n",
    "ret = text_summarize(text, prompt, model=\"gpt-4o-mini\")\n",
    "print(ret)"
   ]
  },
  {
   "cell_type": "code",
   "execution_count": null,
   "metadata": {},
   "outputs": [],
   "source": []
  }
 ],
 "metadata": {
  "kernelspec": {
   "display_name": ".venv",
   "language": "python",
   "name": "python3"
  },
  "language_info": {
   "codemirror_mode": {
    "name": "ipython",
    "version": 3
   },
   "file_extension": ".py",
   "mimetype": "text/x-python",
   "name": "python",
   "nbconvert_exporter": "python",
   "pygments_lexer": "ipython3",
   "version": "3.12.7"
  }
 },
 "nbformat": 4,
 "nbformat_minor": 2
}
