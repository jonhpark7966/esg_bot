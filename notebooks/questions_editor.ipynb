{
 "cells": [
  {
   "cell_type": "code",
   "execution_count": 2,
   "metadata": {},
   "outputs": [],
   "source": [
    "import pandas as pd\n",
    "\n",
    "questions_df = pd.read_csv(\"../data/questions.csv\")\n"
   ]
  },
  {
   "cell_type": "code",
   "execution_count": 10,
   "metadata": {},
   "outputs": [],
   "source": [
    "e_q_df = pd.read_excel(\"../data/questions_src/srcs.xlsx\", sheet_name=0)\n",
    "e_r_df = pd.read_excel(\"../data/questions_src/srcs.xlsx\", sheet_name=3)\n",
    "\n",
    "s_q_df = pd.read_excel(\"../data/questions_src/srcs.xlsx\", sheet_name=1)\n",
    "s_r_df = pd.read_excel(\"../data/questions_src/srcs.xlsx\", sheet_name=4)\n",
    "\n",
    "g_q_df = pd.read_excel(\"../data/questions_src/srcs.xlsx\", sheet_name=2)\n",
    "g_r_df = pd.read_excel(\"../data/questions_src/srcs.xlsx\", sheet_name=5)"
   ]
  },
  {
   "cell_type": "code",
   "execution_count": 36,
   "metadata": {},
   "outputs": [],
   "source": [
    "import pandas as pd\n",
    "import re\n",
    "\n",
    "def transform_df(df, category):\n",
    "    new_rows = []\n",
    "    current_num = None\n",
    "    current_question = None\n",
    "    current_choices = []\n",
    "    category_str = category\n",
    "\n",
    "    def flush():\n",
    "        if current_num is not None:\n",
    "            int_current_num = int(current_num)\n",
    "            new_rows.append({\n",
    "                'question_number': int_current_num,\n",
    "                'question': current_question,\n",
    "                'choices': '\\n'.join(current_choices),\n",
    "                'category': category_str\n",
    "            })\n",
    "\n",
    "    for _, row in df.iterrows():\n",
    "        number = row['번호']\n",
    "        question_text = str(row['평가항목']) if pd.notna(row['평가항목']) else \"\"\n",
    "\n",
    "        # 새로운 질문 발견 시 처리\n",
    "        if pd.notna(number):\n",
    "            flush()\n",
    "            current_num = number\n",
    "            current_question = question_text\n",
    "            current_choices = []\n",
    "        else:\n",
    "            # 가. 나. 다. 형태의 choices 감지\n",
    "            if re.match(r'^[가나다라마바사아자차카타파하]\\.\\s', question_text.strip()):\n",
    "                current_choices.append(question_text.strip())\n",
    "\n",
    "    flush()\n",
    "    return pd.DataFrame(new_rows, columns=['question_number','question','choices', 'category'])"
   ]
  },
  {
   "cell_type": "code",
   "execution_count": null,
   "metadata": {},
   "outputs": [],
   "source": [
    "def merge_ref_to_questions(df1, df2):\n",
    "    grouped = df2.groupby('항목 번호').agg({\n",
    "        '대분류': 'first',\n",
    "        '중분류': 'first',\n",
    "        '정의 및 확인사항 + 참고사례 및 제출 시 유의사항': lambda x: ' '.join(x.dropna())\n",
    "    }).reset_index()\n",
    "\n",
    "    grouped.rename(columns={'정의 및 확인사항 + 참고사례 및 제출 시 유의사항': '참고사항'}, inplace=True)\n",
    "\n",
    "    merged_df = pd.merge(\n",
    "        df1, \n",
    "        grouped, \n",
    "        left_on='question_number', \n",
    "        right_on='항목 번호', \n",
    "        how='left'\n",
    "    )\n",
    "    \n",
    "    return merged_df.drop(columns=['항목 번호'])\n"
   ]
  },
  {
   "cell_type": "code",
   "execution_count": 56,
   "metadata": {},
   "outputs": [],
   "source": [
    "e_questions_wich_choices = transform_df(e_q_df, \"E\")\n",
    "merged_e_questions_wich_choices = merge_ref_to_questions(e_questions_wich_choices, e_r_df)\n",
    "\n",
    "s_questions_wich_choices = transform_df(s_q_df, \"S\")\n",
    "merged_s_questions_wich_choices = merge_ref_to_questions(s_questions_wich_choices, s_r_df)\n",
    "\n",
    "g_questions_wich_choices = transform_df(g_q_df, \"G\")\n",
    "merged_g_questions_wich_choices = merge_ref_to_questions(g_questions_wich_choices, g_r_df)"
   ]
  },
  {
   "cell_type": "code",
   "execution_count": 59,
   "metadata": {},
   "outputs": [],
   "source": [
    "pd.concat([merged_e_questions_wich_choices, merged_s_questions_wich_choices, merged_g_questions_wich_choices]).to_csv(\"../data/questions_with_ref.csv\", index=False)"
   ]
  },
  {
   "cell_type": "code",
   "execution_count": null,
   "metadata": {},
   "outputs": [],
   "source": [
    "pd.read_csv(\"../data/questions_with_ref.csv\")"
   ]
  },
  {
   "cell_type": "code",
   "execution_count": null,
   "metadata": {},
   "outputs": [],
   "source": []
  },
  {
   "cell_type": "code",
   "execution_count": null,
   "metadata": {},
   "outputs": [],
   "source": []
  },
  {
   "cell_type": "code",
   "execution_count": null,
   "metadata": {},
   "outputs": [],
   "source": []
  },
  {
   "cell_type": "code",
   "execution_count": null,
   "metadata": {},
   "outputs": [],
   "source": []
  },
  {
   "cell_type": "code",
   "execution_count": null,
   "metadata": {},
   "outputs": [],
   "source": []
  }
 ],
 "metadata": {
  "kernelspec": {
   "display_name": ".venv",
   "language": "python",
   "name": "python3"
  },
  "language_info": {
   "codemirror_mode": {
    "name": "ipython",
    "version": 3
   },
   "file_extension": ".py",
   "mimetype": "text/x-python",
   "name": "python",
   "nbconvert_exporter": "python",
   "pygments_lexer": "ipython3",
   "version": "3.12.7"
  }
 },
 "nbformat": 4,
 "nbformat_minor": 2
}
